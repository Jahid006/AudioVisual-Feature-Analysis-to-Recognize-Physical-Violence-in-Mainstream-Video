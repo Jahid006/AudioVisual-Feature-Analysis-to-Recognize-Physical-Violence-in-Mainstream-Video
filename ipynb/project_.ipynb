{
 "cells": [
  {
   "cell_type": "code",
   "execution_count": 1,
   "id": "f064f107",
   "metadata": {},
   "outputs": [],
   "source": [
    "import numpy as np\n",
    "import glob, time, shutil, os, joblib, tqdm, pickle, json, pprint\n",
    "from datetime import datetime\n",
    "import matplotlib.pyplot as plt\n",
    "%matplotlib inline\n",
    "\n",
    "from IPython.display import clear_output"
   ]
  },
  {
   "cell_type": "code",
   "execution_count": 2,
   "id": "9bd1ec01",
   "metadata": {},
   "outputs": [],
   "source": [
    "import tensorflow as tf\n",
    "from tensorflow.keras.models import Model\n",
    "from tensorflow.keras import Input, layers"
   ]
  },
  {
   "cell_type": "raw",
   "id": "9cc7e89a",
   "metadata": {},
   "source": [
    "import cv2, pims\n",
    "import glob, decord\n",
    "from decord import VideoReader\n",
    "from decord import cpu, gpu\n",
    "decord.bridge.set_bridge('tensorflow')"
   ]
  },
  {
   "cell_type": "code",
   "execution_count": 3,
   "id": "bc4a7ff4",
   "metadata": {},
   "outputs": [],
   "source": [
    "from config import BACKBONE, USE_MY_DATASET, USE_RLVS_DATASET, INPUT_DIM, IF_MXNET_MODEL,\\\n",
    "    PATH, HISTORY_PATH, LOG_PATH, MODEL_PATH, RESULT_PATH, DEBUG, CROSS_DATASET, PARTITION"
   ]
  },
  {
   "cell_type": "code",
   "execution_count": 4,
   "id": "d3fa79c9",
   "metadata": {},
   "outputs": [
    {
     "name": "stdout",
     "output_type": "stream",
     "text": [
      "{'Backbone': 'P3D',\n",
      " 'Cross_Dataset': '',\n",
      " 'Debug': True,\n",
      " 'History_Path': './models_history/P3D_My_Dataset_Rlvs_Dataset',\n",
      " 'If_Mxnet_Model': True,\n",
      " 'Input_Dim': (2, 2048),\n",
      " 'Log_Path': './tensorboard_log/P3D_My_Dataset_Rlvs_Dataset',\n",
      " 'Model_Path': './saved_models/P3D_My_Dataset_Rlvs_Dataset',\n",
      " 'Partition': 0.9,\n",
      " 'Path': 'P3D_My_Dataset_Rlvs_Dataset',\n",
      " 'Result_Path': './generated_result/P3D_My_Dataset_Rlvs_Dataset',\n",
      " 'Use_My_Dataset': True,\n",
      " 'Use_Rlvs_Dataset': True}\n"
     ]
    }
   ],
   "source": [
    "model_configuration ={'Backbone':BACKBONE,\n",
    "                      'Use_My_Dataset':USE_MY_DATASET,\n",
    "                      'Use_Rlvs_Dataset':USE_RLVS_DATASET,\n",
    "                      'Input_Dim':INPUT_DIM,\n",
    "                      'If_Mxnet_Model':IF_MXNET_MODEL,\n",
    "                      'Path':PATH,\n",
    "                      'History_Path':HISTORY_PATH,\n",
    "                      'Log_Path':LOG_PATH,\n",
    "                      'Model_Path':MODEL_PATH,\n",
    "                      'Result_Path':RESULT_PATH,\n",
    "                      'Debug':DEBUG,\n",
    "                      'Cross_Dataset':CROSS_DATASET,\n",
    "                      'Partition':PARTITION}\n",
    "\n",
    "pprint.pprint(model_configuration)"
   ]
  },
  {
   "cell_type": "code",
   "execution_count": 5,
   "id": "6b6d6dde",
   "metadata": {},
   "outputs": [
    {
     "data": {
      "text/plain": [
       "[None, None, None, None]"
      ]
     },
     "execution_count": 5,
     "metadata": {},
     "output_type": "execute_result"
    }
   ],
   "source": [
    "def make_dir(path):\n",
    "    if not os.path.exists(path):\n",
    "        os.makedirs(path)\n",
    "[make_dir(i) for i in [HISTORY_PATH, LOG_PATH, MODEL_PATH, RESULT_PATH]]"
   ]
  },
  {
   "cell_type": "code",
   "execution_count": 6,
   "id": "2da87bd0",
   "metadata": {},
   "outputs": [],
   "source": [
    "#BACKBONE = \"denseNet201\"\n",
    "#from tensorflow.keras.applications.densenet import preprocess_input\n",
    "#backbone = tf.keras.applications.DenseNet201(include_top=False,weights=\"imagenet\",pooling='avg')"
   ]
  },
  {
   "cell_type": "code",
   "execution_count": 7,
   "id": "4f219da6",
   "metadata": {},
   "outputs": [],
   "source": [
    "def times():\n",
    "    now = datetime.now()\n",
    "    return str(now.strftime(\"%d-%m-%Y..%H.%M.%S\"))\n",
    "\n",
    "def save(name,data,about=\"Undocumented\"):\n",
    "    \n",
    "    '''This function saves file as sav with Time extension'''\n",
    "    about += \" at \"+times()\n",
    "    filename = name +\"_\"+ times()+'.sav' \n",
    "    joblib.dump([about,data], filename)\n",
    "    print('Successfully Pickled->',name)\n",
    "    \n",
    "def Load(name):\n",
    "    about,data = joblib.load(name)\n",
    "    print(\"About \"+name+\": \\n\"+about)\n",
    "    return data\n",
    "\n",
    "def ShuffleIndex(l,seed=42):\n",
    "    permutation  = np.random.RandomState(seed=seed).permutation((l))\n",
    "    inversePermutation = np.argsort(permutation)\n",
    "    return permutation, inversePermutation\n",
    "\n",
    "def dict_as_json(data, path):\n",
    "    with open(path, 'w') as f:\n",
    "        json.dump(data, f)\n",
    "        \n",
    "def json_to_dict(path):\n",
    "    with open(path, 'r') as f:\n",
    "        return json.load(f)[0]\n",
    "    "
   ]
  },
  {
   "cell_type": "raw",
   "id": "48c15a57",
   "metadata": {},
   "source": [
    "def ExtractFeature(FileName,frames = 16, width=224, height=224):\n",
    "    \n",
    "    V = pims.Video(FileName) \n",
    "    duration = len(V) \n",
    "      \n",
    "    try:    frame_id_list = np.sort(np.random.choice(range(duration), frames, replace=False))\n",
    "    except: frame_id_list = np.sort(np.random.choice(range(duration), frames, replace=True))\n",
    "    \n",
    "    Frames = np.array(V[frame_id_list])\n",
    "    Frames = np.array([cv2.resize(frame,(width,height)) for frame in Frames])\n",
    "    features = np.array(backbone.predict(preprocess_input(Frames)))\n",
    "    return features\n",
    "\n",
    "\n",
    "def ExtractFeatureDecord(FileName,frames = 16, width=224, height=224):\n",
    "    \n",
    "    try:\n",
    "        V = VideoReader(FileName, width, height)\n",
    "        duration = len(V)\n",
    "        try:    frame_id_list = np.sort(np.random.choice(range(duration), frames, replace=False))\n",
    "        except: frame_id_list = np.sort(np.random.choice(range(duration), frames, replace=True))\n",
    "        \n",
    "        Frames = V.get_batch(frame_id_list).asnumpy()\n",
    "        features = np.array(backbone.predict(preprocess_input(Frames)))\n",
    "    \n",
    "    except:return ExtractFeature(FileName,frames,width,height)\n",
    "    return features\n",
    "\n",
    "def ExtractFeatureCV2(FileName,frames = 16, width=224, height=224):\n",
    "    \"\"\"get frames from video using cv2\"\"\"\n",
    "    V = cv2.VideoCapture(FileName)\n",
    "    duration = int(V.get(cv2.CAP_PROP_FRAME_COUNT))\n",
    "    try:    frame_id_list = np.sort(np.random.choice(range(duration), frames, replace=False))\n",
    "    except: frame_id_list = np.sort(np.random.choice(range(duration), frames, replace=True))\n",
    "    \n",
    "    Frames = np.array([V.read()[1] for i in frame_id_list])\n",
    "    Frames = np.array([cv2.resize(frame,(width,height)) for frame in Frames])\n",
    "    features = np.array(backbone.predict(preprocess_input(Frames)))\n",
    "    return features\n",
    "    "
   ]
  },
  {
   "cell_type": "code",
   "execution_count": 8,
   "id": "68f14ef2",
   "metadata": {},
   "outputs": [],
   "source": [
    "def get_model(dimension = 512,summary = False,input_shape = INPUT_DIM):\n",
    "    \n",
    "    FeatureInput = Input(shape=input_shape)\n",
    "    Average_feature = layers.Flatten()(FeatureInput) if  IF_MXNET_MODEL else tf.reduce_max(FeatureInput,-2)*.25 + tf.reduce_mean(FeatureInput,-2)*.75\n",
    "    \n",
    "    AudioInput =   Input(shape=(1024))\n",
    "    audio_ = layers.Dense(dimension//4,kernel_initializer='normal', activation='linear')(AudioInput)\n",
    "    audio_ = layers.BatchNormalization()(audio_)\n",
    "    audio_ = layers.Activation(tf.nn.relu)(audio_)\n",
    "    audio_ = layers.Dropout(.5)(audio_)\n",
    "    \n",
    "    video_ = layers.Flatten()(Average_feature)\n",
    "    video_ = layers.Dense(dimension//2,kernel_initializer='normal', activation='linear')(video_)\n",
    "    video_ = layers.BatchNormalization()(video_)\n",
    "    video_ = layers.Activation(tf.nn.relu)(video_)\n",
    "    video_ = layers.Dropout(.5)(video_)\n",
    "    \n",
    "    combined = layers.concatenate([video_,audio_],axis=1)\n",
    "    \n",
    "    output = layers.Dense(1,kernel_initializer='normal', activation='sigmoid',name = 'classifier')(combined)\n",
    "    \n",
    "    model = Model(inputs= [FeatureInput,AudioInput], outputs = output)\n",
    "    model.compile(optimizer=tf.optimizers.Nadam(learning_rate=0.001), loss='binary_crossentropy',metrics=['accuracy'])\n",
    "    \n",
    "    if summary:print(model.summary())\n",
    "    \n",
    "    return model"
   ]
  },
  {
   "cell_type": "code",
   "execution_count": 9,
   "id": "973c6182",
   "metadata": {},
   "outputs": [],
   "source": [
    "\n",
    "def get_callbacks():\n",
    "    \"\"\"define models callbacks\"\"\"#checkpoint = tf.keras.callbacks.ModelCheckpoint('violenceNet.h5',save_best_only=True)\n",
    "    my_callbacks = [#tf.keras.callbacks.EarlyStopping(patience=10,min_delta= .005,mode='auto',monitor=\"val_accuracy\"),\n",
    "                    tf.keras.callbacks.ModelCheckpoint(filepath = MODEL_PATH+'\\model.{epoch:02d}-{val_loss:.2f}-{val_accuracy:.3f}.h5'),\n",
    "                    tf.keras.callbacks.TensorBoard(log_dir=LOG_PATH),]\n",
    "    \n",
    "    return my_callbacks"
   ]
  },
  {
   "cell_type": "code",
   "execution_count": 10,
   "id": "3ee421aa",
   "metadata": {},
   "outputs": [],
   "source": [
    "def get_my_data(DEBUG=False):\n",
    "    positive_video = glob.glob(f'video_features\\my_dataset\\{BACKBONE}\\\\notPhysicalViolence\\*')\n",
    "    negative_video = glob.glob(f'video_features\\my_dataset\\{BACKBONE}\\PhysicalViolence\\*')\n",
    "    \n",
    "    positive_audio_embedding = glob.glob(r'audio_features\\my_dataset\\notPhysicalViolence\\*')\n",
    "    negative_audio_embedding = glob.glob(f'audio_features\\my_dataset\\PhysicalViolence\\*')\n",
    "    \n",
    "    video_files = positive_video + negative_video\n",
    "    audio_files = positive_audio_embedding + negative_audio_embedding\n",
    "    \n",
    "    print(f'{len(video_files)} videos and {len(audio_files)} audio files found in my dataset')\n",
    "    \n",
    "    videos = [np.load(video_files[k],allow_pickle=True) for k in range(len(video_files))]\n",
    "    audios = [np.load(audio_files[k],allow_pickle=True).flatten() for k in range(len(audio_files))]\n",
    "    labels = [0]*len(positive_video) + [1]*len(negative_video)\n",
    "    \n",
    "    videos = np.array(videos,dtype=np.float32)\n",
    "    audios = np.array(audios,dtype=np.float32)\n",
    "    labels = np.array(labels,dtype=np.int32)\n",
    "    \n",
    "    if DEBUG:\n",
    "        idx = np.random.choice(range(len(videos)),size=10,replace=False)\n",
    "        print('\\n',list(zip(np.array(video_files)[idx],np.array(audio_files)[idx],labels[idx])))\n",
    "\n",
    "    print('my data shape: ',videos.shape,audios.shape,labels.shape)\n",
    "    \n",
    "    return videos, audios, labels"
   ]
  },
  {
   "cell_type": "code",
   "execution_count": 11,
   "id": "0cc582b5",
   "metadata": {},
   "outputs": [],
   "source": [
    "rlvs_audios_embedding_not_found = []\n",
    "\n",
    "def get_audio_embedding(audio_file):\n",
    "    if os.path.exists(audio_file):\n",
    "        return np.load(audio_file,allow_pickle=True).flatten()\n",
    "    \n",
    "    rlvs_audios_embedding_not_found.append(audio_file)\n",
    "    return np.zeros(1024).flatten()\n",
    "\n",
    "def naming(video_file):\n",
    "    name  = video_file.split('\\\\')[-1][:-4]\n",
    "    if name.split('.')[-1] in ['i3d10s','p3d5s','r21d']:\n",
    "        name = name.replace('.'+name.split('.')[-1],'')\n",
    "    return f'audio_features\\\\rlvs\\{name}.npy'\n",
    "\n",
    "def get_rlvs_data(DEBUG=False): \n",
    "    video_files = glob.glob(f'video_features\\\\rlvs\\{BACKBONE}\\*')\n",
    "    \n",
    "    print(f'{len(video_files)} videos found in rlvs dataset')\n",
    "\n",
    "    videos = [np.load(video_files[k],allow_pickle=True) for k in range(len(video_files))]\n",
    "    audios = [get_audio_embedding(naming(k)) for k in video_files]\n",
    "    \n",
    "    class_map = {'NV':0,'V':1}\n",
    "    labels = [class_map[i.split('\\\\')[-1].split('_')[0]] for i in video_files]\n",
    "    \n",
    "    videos = np.array(videos,dtype=np.float32)\n",
    "    audios = np.array(audios,dtype=np.float32)\n",
    "    labels = np.array(labels,dtype=np.int32)\n",
    "    \n",
    "    if DEBUG:\n",
    "        idx = np.random.choice(range(len(videos)),size=10,replace=False)\n",
    "        print('\\n',list(zip(np.array(video_files)[idx],\n",
    "                       [(naming(k)) for k in np.array(video_files)[idx]],\n",
    "                       labels[idx])))\n",
    "    \n",
    "    print(\"rlvs data shape: \",videos.shape,audios.shape,labels.shape)\n",
    "    print(f'{len(rlvs_audios_embedding_not_found)} audio files not found')\n",
    "    \n",
    "    return videos, audios, labels"
   ]
  },
  {
   "cell_type": "code",
   "execution_count": 12,
   "id": "0efd1cf5",
   "metadata": {},
   "outputs": [],
   "source": [
    "def get_all_data(my_data = False, rlvs = False,DEBUG=False):\n",
    "    videos, audios, labels = None, None, None\n",
    "    \n",
    "    if my_data:\n",
    "        my_videos, my_audios, my_labels = get_my_data(DEBUG)\n",
    "        videos = np.concatenate((videos,my_videos), axis = 0) if videos is not None else my_videos\n",
    "        audios = np.concatenate((audios,my_audios), axis = 0) if audios is not None else my_audios\n",
    "        labels = np.concatenate((labels,my_labels), axis = 0) if labels is not None else my_labels\n",
    "\n",
    "    if rlvs:\n",
    "        rlvs_videos, rlvs_audios, rlvs_labels = get_rlvs_data(DEBUG)\n",
    "        videos = np.concatenate((videos,rlvs_videos), axis = 0) if videos is not None else rlvs_videos\n",
    "        audios = np.concatenate((audios,rlvs_audios), axis = 0) if audios is not None else rlvs_audios\n",
    "        labels = np.concatenate((labels,rlvs_labels), axis = 0) if labels is not None else rlvs_labels\n",
    "     \n",
    "    return videos, audios, labels\n",
    "\n",
    "def get_shuffled_data(videos, audios, labels,from_storage= None):\n",
    "    \n",
    "    if from_storage: \n",
    "        permutation, inversePermutation = np.load('history\\permutation_index.npy',allow_pickle=True)\n",
    "    else:  permutation, inversePermutation = ShuffleIndex(len(videos))\n",
    "    \n",
    "    videos = videos[permutation]\n",
    "    audios = audios[permutation]\n",
    "    labels = labels[permutation]\n",
    "    \n",
    "    #np.save('config\\permutation_index.npy',[permutation, inversePermutation],allow_pickle=True)\n",
    "    return videos, audios, labels, permutation, inversePermutation   \n",
    "\n",
    "def split_train_test_data(videos, audios, labels,partition = PARTITION):\n",
    "    \"\"\"split data into train, test, validation\"\"\"\n",
    "    \n",
    "    if partition<=1:  partition = int(len(videos)*partition)\n",
    "    \n",
    "    train_videos = videos[:partition]\n",
    "    train_audios = audios[:partition]\n",
    "    train_labels = labels[:partition]\n",
    "    \n",
    "    test_videos = videos[partition:]\n",
    "    test_audios = audios[partition:]\n",
    "    test_labels = labels[partition:]\n",
    "\n",
    "    \n",
    "    \n",
    "    return train_videos, train_audios, train_labels, test_videos, test_audios, test_labels\n",
    "    \n",
    "def get_data_generator(videos, audios, labels, batch_size):\n",
    "    while True:\n",
    "        permutation, inversePermutation = ShuffleIndex(len(videos))\n",
    "        videos = videos[permutation]\n",
    "        audios = audios[permutation]\n",
    "        labels = labels[permutation]\n",
    "        \n",
    "        for i in range(0,len(videos),batch_size):\n",
    "            yield videos[i:i+batch_size], audios[i:i+batch_size], labels[i:i+batch_size]"
   ]
  },
  {
   "cell_type": "code",
   "execution_count": 13,
   "id": "ac7ba300",
   "metadata": {},
   "outputs": [
    {
     "name": "stdout",
     "output_type": "stream",
     "text": [
      "Model: \"model\"\n",
      "__________________________________________________________________________________________________\n",
      " Layer (type)                   Output Shape         Param #     Connected to                     \n",
      "==================================================================================================\n",
      " input_1 (InputLayer)           [(None, 2, 2048)]    0           []                               \n",
      "                                                                                                  \n",
      " flatten (Flatten)              (None, 4096)         0           ['input_1[0][0]']                \n",
      "                                                                                                  \n",
      " flatten_1 (Flatten)            (None, 4096)         0           ['flatten[0][0]']                \n",
      "                                                                                                  \n",
      " input_2 (InputLayer)           [(None, 1024)]       0           []                               \n",
      "                                                                                                  \n",
      " dense_1 (Dense)                (None, 128)          524416      ['flatten_1[0][0]']              \n",
      "                                                                                                  \n",
      " dense (Dense)                  (None, 64)           65600       ['input_2[0][0]']                \n",
      "                                                                                                  \n",
      " batch_normalization_1 (BatchNo  (None, 128)         512         ['dense_1[0][0]']                \n",
      " rmalization)                                                                                     \n",
      "                                                                                                  \n",
      " batch_normalization (BatchNorm  (None, 64)          256         ['dense[0][0]']                  \n",
      " alization)                                                                                       \n",
      "                                                                                                  \n",
      " activation_1 (Activation)      (None, 128)          0           ['batch_normalization_1[0][0]']  \n",
      "                                                                                                  \n",
      " activation (Activation)        (None, 64)           0           ['batch_normalization[0][0]']    \n",
      "                                                                                                  \n",
      " dropout_1 (Dropout)            (None, 128)          0           ['activation_1[0][0]']           \n",
      "                                                                                                  \n",
      " dropout (Dropout)              (None, 64)           0           ['activation[0][0]']             \n",
      "                                                                                                  \n",
      " concatenate (Concatenate)      (None, 192)          0           ['dropout_1[0][0]',              \n",
      "                                                                  'dropout[0][0]']                \n",
      "                                                                                                  \n",
      " classifier (Dense)             (None, 1)            193         ['concatenate[0][0]']            \n",
      "                                                                                                  \n",
      "==================================================================================================\n",
      "Total params: 590,977\n",
      "Trainable params: 590,593\n",
      "Non-trainable params: 384\n",
      "__________________________________________________________________________________________________\n",
      "None\n"
     ]
    }
   ],
   "source": [
    "model = get_model(dimension = 256, summary=True)"
   ]
  },
  {
   "cell_type": "code",
   "execution_count": 14,
   "id": "f56bc527",
   "metadata": {},
   "outputs": [
    {
     "name": "stdout",
     "output_type": "stream",
     "text": [
      "1216 videos and 1216 audio files found in my dataset\n",
      "\n",
      " [('video_features\\\\my_dataset\\\\P3D\\\\notPhysicalViolence\\\\1667.Vanilla.p3d5s.npy', 'audio_features\\\\my_dataset\\\\notPhysicalViolence\\\\1667.Vanilla.npy', 0), ('video_features\\\\my_dataset\\\\P3D\\\\notPhysicalViolence\\\\1465.Vanilla.p3d5s.npy', 'audio_features\\\\my_dataset\\\\notPhysicalViolence\\\\1465.Vanilla.npy', 0), ('video_features\\\\my_dataset\\\\P3D\\\\PhysicalViolence\\\\3139.Violence.p3d5s.npy', 'audio_features\\\\my_dataset\\\\PhysicalViolence\\\\3139.Violence.npy', 1), ('video_features\\\\my_dataset\\\\P3D\\\\notPhysicalViolence\\\\1633.Vanilla.p3d5s.npy', 'audio_features\\\\my_dataset\\\\notPhysicalViolence\\\\1633.Vanilla.npy', 0), ('video_features\\\\my_dataset\\\\P3D\\\\notPhysicalViolence\\\\3205.Vanilla.p3d5s.npy', 'audio_features\\\\my_dataset\\\\notPhysicalViolence\\\\3205.Vanilla.npy', 0), ('video_features\\\\my_dataset\\\\P3D\\\\notPhysicalViolence\\\\1681.Vanilla.p3d5s.npy', 'audio_features\\\\my_dataset\\\\notPhysicalViolence\\\\1681.Vanilla.npy', 0), ('video_features\\\\my_dataset\\\\P3D\\\\PhysicalViolence\\\\3050.Violence.p3d5s.npy', 'audio_features\\\\my_dataset\\\\PhysicalViolence\\\\3050.Violence.npy', 1), ('video_features\\\\my_dataset\\\\P3D\\\\notPhysicalViolence\\\\1971.Vanilla.p3d5s.npy', 'audio_features\\\\my_dataset\\\\notPhysicalViolence\\\\1971.Vanilla.npy', 0), ('video_features\\\\my_dataset\\\\P3D\\\\PhysicalViolence\\\\3348.p3d5s.npy', 'audio_features\\\\my_dataset\\\\PhysicalViolence\\\\3348.npy', 1), ('video_features\\\\my_dataset\\\\P3D\\\\PhysicalViolence\\\\2958.p3d5s.npy', 'audio_features\\\\my_dataset\\\\PhysicalViolence\\\\2958.npy', 1)]\n",
      "my data shape:  (1216, 2, 2048) (1216, 1024) (1216,)\n",
      "2000 videos found in rlvs dataset\n",
      "\n",
      " [('video_features\\\\rlvs\\\\P3D\\\\V_751.p3d5s.npy', 'audio_features\\\\rlvs\\\\V_751.npy', 1), ('video_features\\\\rlvs\\\\P3D\\\\V_166.p3d5s.npy', 'audio_features\\\\rlvs\\\\V_166.npy', 1), ('video_features\\\\rlvs\\\\P3D\\\\NV_662.p3d5s.npy', 'audio_features\\\\rlvs\\\\NV_662.npy', 0), ('video_features\\\\rlvs\\\\P3D\\\\V_223.p3d5s.npy', 'audio_features\\\\rlvs\\\\V_223.npy', 1), ('video_features\\\\rlvs\\\\P3D\\\\V_750.p3d5s.npy', 'audio_features\\\\rlvs\\\\V_750.npy', 1), ('video_features\\\\rlvs\\\\P3D\\\\V_859.p3d5s.npy', 'audio_features\\\\rlvs\\\\V_859.npy', 1), ('video_features\\\\rlvs\\\\P3D\\\\NV_643.p3d5s.npy', 'audio_features\\\\rlvs\\\\NV_643.npy', 0), ('video_features\\\\rlvs\\\\P3D\\\\V_654.p3d5s.npy', 'audio_features\\\\rlvs\\\\V_654.npy', 1), ('video_features\\\\rlvs\\\\P3D\\\\NV_190.p3d5s.npy', 'audio_features\\\\rlvs\\\\NV_190.npy', 0), ('video_features\\\\rlvs\\\\P3D\\\\NV_160.p3d5s.npy', 'audio_features\\\\rlvs\\\\NV_160.npy', 0)]\n",
      "rlvs data shape:  (2000, 2, 2048) (2000, 1024) (2000,)\n",
      "1062 audio files not found\n"
     ]
    }
   ],
   "source": [
    "videos, audios, labels = get_all_data(my_data = USE_MY_DATASET, rlvs = USE_RLVS_DATASET, DEBUG=DEBUG)"
   ]
  },
  {
   "cell_type": "code",
   "execution_count": 15,
   "id": "b2c84f06",
   "metadata": {},
   "outputs": [],
   "source": [
    "videos, audios, labels, perm, Iperm = get_shuffled_data(videos, audios, labels)"
   ]
  },
  {
   "cell_type": "code",
   "execution_count": 16,
   "id": "63190e48",
   "metadata": {},
   "outputs": [
    {
     "name": "stdout",
     "output_type": "stream",
     "text": [
      "\n",
      "\n",
      "2894 train videos, 322 test videos\n"
     ]
    }
   ],
   "source": [
    "train_videos, train_audios, train_labels, test_videos, test_audios, test_labels = split_train_test_data(videos, audios, labels)\n",
    "if len(CROSS_DATASET):\n",
    "    print('\\n','Cross dataset evaluation: ',CROSS_DATASET)\n",
    "    test_videos, test_audios, test_labels = get_rlvs_data() if CROSS_DATASET =='rlvs' else get_my_data()\n",
    "    \n",
    "print(f'\\n\\n{len(train_videos)} train videos, {len(test_videos)} test videos')"
   ]
  },
  {
   "cell_type": "code",
   "execution_count": 17,
   "id": "3a55228f",
   "metadata": {},
   "outputs": [
    {
     "name": "stdout",
     "output_type": "stream",
     "text": [
      "Epoch 1/50\n",
      "32/32 [==============================] - 3s 36ms/step - loss: 0.3632 - accuracy: 0.8437 - val_loss: 0.4281 - val_accuracy: 0.9034\n",
      "Epoch 2/50\n",
      "32/32 [==============================] - 1s 40ms/step - loss: 0.2106 - accuracy: 0.9313 - val_loss: 0.3337 - val_accuracy: 0.9172\n",
      "Epoch 3/50\n",
      "32/32 [==============================] - 1s 40ms/step - loss: 0.1464 - accuracy: 0.9558 - val_loss: 0.2561 - val_accuracy: 0.9448\n",
      "Epoch 4/50\n",
      "32/32 [==============================] - 1s 31ms/step - loss: 0.1208 - accuracy: 0.9658 - val_loss: 0.2391 - val_accuracy: 0.9000\n",
      "Epoch 5/50\n",
      "32/32 [==============================] - 1s 34ms/step - loss: 0.1015 - accuracy: 0.9693 - val_loss: 0.2449 - val_accuracy: 0.8862\n",
      "Epoch 6/50\n",
      "32/32 [==============================] - 1s 30ms/step - loss: 0.0764 - accuracy: 0.9796 - val_loss: 0.1554 - val_accuracy: 0.9448\n",
      "Epoch 7/50\n",
      "32/32 [==============================] - 1s 31ms/step - loss: 0.0666 - accuracy: 0.9854 - val_loss: 0.1413 - val_accuracy: 0.9655\n",
      "Epoch 8/50\n",
      "32/32 [==============================] - 1s 28ms/step - loss: 0.0542 - accuracy: 0.9881 - val_loss: 0.1881 - val_accuracy: 0.9276\n",
      "Epoch 9/50\n",
      "32/32 [==============================] - 1s 29ms/step - loss: 0.0495 - accuracy: 0.9881 - val_loss: 0.3209 - val_accuracy: 0.8655\n",
      "Epoch 10/50\n",
      "32/32 [==============================] - 1s 26ms/step - loss: 0.0432 - accuracy: 0.9912 - val_loss: 0.1266 - val_accuracy: 0.9414\n",
      "Epoch 11/50\n",
      "32/32 [==============================] - 1s 31ms/step - loss: 0.0309 - accuracy: 0.9946 - val_loss: 0.1222 - val_accuracy: 0.9483\n",
      "Epoch 12/50\n",
      "32/32 [==============================] - 1s 34ms/step - loss: 0.0370 - accuracy: 0.9908 - val_loss: 0.1500 - val_accuracy: 0.9448\n",
      "Epoch 13/50\n",
      "32/32 [==============================] - 1s 25ms/step - loss: 0.0379 - accuracy: 0.9916 - val_loss: 0.1133 - val_accuracy: 0.9552\n",
      "Epoch 14/50\n",
      "32/32 [==============================] - 1s 28ms/step - loss: 0.0326 - accuracy: 0.9916 - val_loss: 0.1919 - val_accuracy: 0.9172\n",
      "Epoch 15/50\n",
      "32/32 [==============================] - 1s 25ms/step - loss: 0.0283 - accuracy: 0.9954 - val_loss: 0.1428 - val_accuracy: 0.9483\n",
      "Epoch 16/50\n",
      "32/32 [==============================] - 1s 22ms/step - loss: 0.0282 - accuracy: 0.9931 - val_loss: 0.1336 - val_accuracy: 0.9345\n",
      "Epoch 17/50\n",
      "32/32 [==============================] - 1s 25ms/step - loss: 0.0205 - accuracy: 0.9958 - val_loss: 0.1357 - val_accuracy: 0.9379\n",
      "Epoch 18/50\n",
      "32/32 [==============================] - 1s 23ms/step - loss: 0.0229 - accuracy: 0.9965 - val_loss: 0.1648 - val_accuracy: 0.9379\n",
      "Epoch 19/50\n",
      "32/32 [==============================] - 1s 29ms/step - loss: 0.0167 - accuracy: 0.9981 - val_loss: 0.1482 - val_accuracy: 0.9448\n",
      "Epoch 20/50\n",
      "32/32 [==============================] - 1s 25ms/step - loss: 0.0174 - accuracy: 0.9969 - val_loss: 0.2174 - val_accuracy: 0.9276\n",
      "Epoch 21/50\n",
      "32/32 [==============================] - 1s 22ms/step - loss: 0.0224 - accuracy: 0.9942 - val_loss: 0.1542 - val_accuracy: 0.9379\n",
      "Epoch 22/50\n",
      "32/32 [==============================] - 1s 28ms/step - loss: 0.0208 - accuracy: 0.9954 - val_loss: 0.1674 - val_accuracy: 0.9345\n",
      "Epoch 23/50\n",
      "32/32 [==============================] - 1s 22ms/step - loss: 0.0187 - accuracy: 0.9962 - val_loss: 0.1689 - val_accuracy: 0.9448\n",
      "Epoch 24/50\n",
      "32/32 [==============================] - 1s 30ms/step - loss: 0.0139 - accuracy: 0.9981 - val_loss: 0.3554 - val_accuracy: 0.8828\n",
      "Epoch 25/50\n",
      "32/32 [==============================] - 1s 25ms/step - loss: 0.0158 - accuracy: 0.9973 - val_loss: 0.6479 - val_accuracy: 0.8138\n",
      "Epoch 26/50\n",
      "32/32 [==============================] - 1s 22ms/step - loss: 0.0128 - accuracy: 0.9965 - val_loss: 0.1703 - val_accuracy: 0.9414\n",
      "Epoch 27/50\n",
      "32/32 [==============================] - 1s 24ms/step - loss: 0.0124 - accuracy: 0.9981 - val_loss: 0.1615 - val_accuracy: 0.9448\n",
      "Epoch 28/50\n",
      "32/32 [==============================] - 1s 23ms/step - loss: 0.0080 - accuracy: 1.0000 - val_loss: 0.2094 - val_accuracy: 0.9379\n",
      "Epoch 29/50\n",
      "32/32 [==============================] - 1s 23ms/step - loss: 0.0119 - accuracy: 0.9981 - val_loss: 0.1921 - val_accuracy: 0.9379\n",
      "Epoch 30/50\n",
      "32/32 [==============================] - 1s 23ms/step - loss: 0.0111 - accuracy: 0.9981 - val_loss: 0.1661 - val_accuracy: 0.9379\n",
      "Epoch 31/50\n",
      "32/32 [==============================] - 1s 31ms/step - loss: 0.0123 - accuracy: 0.9973 - val_loss: 0.1618 - val_accuracy: 0.9241\n",
      "Epoch 32/50\n",
      "32/32 [==============================] - 1s 27ms/step - loss: 0.0127 - accuracy: 0.9977 - val_loss: 0.1991 - val_accuracy: 0.9310\n",
      "Epoch 33/50\n",
      "32/32 [==============================] - 1s 21ms/step - loss: 0.0107 - accuracy: 0.9985 - val_loss: 0.1313 - val_accuracy: 0.9379\n",
      "Epoch 34/50\n",
      "32/32 [==============================] - 1s 25ms/step - loss: 0.0098 - accuracy: 0.9965 - val_loss: 0.2426 - val_accuracy: 0.9276\n",
      "Epoch 35/50\n",
      "32/32 [==============================] - 1s 24ms/step - loss: 0.0106 - accuracy: 0.9977 - val_loss: 0.2164 - val_accuracy: 0.9241\n",
      "Epoch 36/50\n",
      "32/32 [==============================] - 1s 32ms/step - loss: 0.0127 - accuracy: 0.9969 - val_loss: 0.1538 - val_accuracy: 0.9379\n",
      "Epoch 37/50\n",
      "32/32 [==============================] - 1s 28ms/step - loss: 0.0179 - accuracy: 0.9946 - val_loss: 0.8984 - val_accuracy: 0.7690\n",
      "Epoch 38/50\n",
      "32/32 [==============================] - 1s 25ms/step - loss: 0.0137 - accuracy: 0.9969 - val_loss: 0.3161 - val_accuracy: 0.9034\n",
      "Epoch 39/50\n",
      "32/32 [==============================] - 1s 33ms/step - loss: 0.0143 - accuracy: 0.9958 - val_loss: 0.1376 - val_accuracy: 0.9483\n",
      "Epoch 40/50\n",
      "32/32 [==============================] - 1s 25ms/step - loss: 0.0128 - accuracy: 0.9977 - val_loss: 0.1639 - val_accuracy: 0.9414\n",
      "Epoch 41/50\n",
      "32/32 [==============================] - 1s 25ms/step - loss: 0.0126 - accuracy: 0.9965 - val_loss: 0.1481 - val_accuracy: 0.9379\n",
      "Epoch 42/50\n",
      "32/32 [==============================] - 1s 31ms/step - loss: 0.0112 - accuracy: 0.9969 - val_loss: 0.3054 - val_accuracy: 0.8931\n",
      "Epoch 43/50\n",
      "32/32 [==============================] - 1s 25ms/step - loss: 0.0165 - accuracy: 0.9950 - val_loss: 0.1501 - val_accuracy: 0.9483\n",
      "Epoch 44/50\n",
      "32/32 [==============================] - 1s 25ms/step - loss: 0.0111 - accuracy: 0.9973 - val_loss: 0.2794 - val_accuracy: 0.8966\n",
      "Epoch 45/50\n",
      "32/32 [==============================] - 1s 25ms/step - loss: 0.0141 - accuracy: 0.9969 - val_loss: 0.1266 - val_accuracy: 0.9448\n",
      "Epoch 46/50\n",
      "32/32 [==============================] - 1s 24ms/step - loss: 0.0161 - accuracy: 0.9958 - val_loss: 0.1505 - val_accuracy: 0.9379\n",
      "Epoch 47/50\n",
      "32/32 [==============================] - 1s 22ms/step - loss: 0.0113 - accuracy: 0.9965 - val_loss: 0.1592 - val_accuracy: 0.9379\n",
      "Epoch 48/50\n",
      "32/32 [==============================] - 1s 23ms/step - loss: 0.0136 - accuracy: 0.9962 - val_loss: 0.1555 - val_accuracy: 0.9483\n",
      "Epoch 49/50\n",
      "32/32 [==============================] - 1s 30ms/step - loss: 0.0143 - accuracy: 0.9965 - val_loss: 0.2067 - val_accuracy: 0.9345\n",
      "Epoch 50/50\n",
      "32/32 [==============================] - 1s 26ms/step - loss: 0.0096 - accuracy: 0.9985 - val_loss: 0.1733 - val_accuracy: 0.9448\n"
     ]
    }
   ],
   "source": [
    "history = model.fit([train_videos,train_audios],train_labels, epochs=50,\n",
    "                    verbose=1,steps_per_epoch=32,validation_split=.1,shuffle = True,\n",
    "                    callbacks = get_callbacks())"
   ]
  },
  {
   "cell_type": "code",
   "execution_count": 18,
   "id": "91c9860a",
   "metadata": {},
   "outputs": [],
   "source": [
    "np.save(f'{HISTORY_PATH}\\history.npy',history.history)\n",
    "dict_as_json(history.history,HISTORY_PATH+'\\history.json')"
   ]
  },
  {
   "cell_type": "code",
   "execution_count": 19,
   "id": "141ee65e",
   "metadata": {},
   "outputs": [],
   "source": [
    "#model.load_weights('model\\\\violence_my_dataset.h5')"
   ]
  },
  {
   "cell_type": "code",
   "execution_count": 20,
   "id": "34ce38e6",
   "metadata": {},
   "outputs": [
    {
     "data": {
      "image/png": "[encoded data removed]",
      "text/plain": [
       "<Figure size 432x288 with 1 Axes>"
      ]
     },
     "metadata": {
      "needs_background": "light"
     },
     "output_type": "display_data"
    }
   ],
   "source": [
    "plt.plot(history.history['loss'])\n",
    "plt.plot(history.history['val_loss'])\n",
    "plt.title('model loss')\n",
    "plt.ylabel('loss')\n",
    "plt.xlabel('epoch')\n",
    "plt.legend(['train', 'test'], loc='upper left')\n",
    "plt.show()"
   ]
  },
  {
   "cell_type": "code",
   "execution_count": 21,
   "id": "76e66662",
   "metadata": {},
   "outputs": [],
   "source": [
    "def get_best_model(history):\n",
    "    \"\"\"get the best model from history\"\"\"\n",
    "    best_epoch = np.argmin(history['val_loss'])\n",
    "    return history['model'][best_epoch]\n",
    "def get_best_model_from_storage(path = MODEL_PATH):\n",
    "    models_ = glob.glob(path+'\\*.h5')\n",
    "    best_model = np.argmax([int(i.split('\\\\')[-1].split('.')[-2]) for i in models_])\n",
    "    print(f'best model is {models_[best_model]}')\n",
    "    return models_[best_model]"
   ]
  },
  {
   "cell_type": "code",
   "execution_count": 22,
   "id": "37ba8f93",
   "metadata": {},
   "outputs": [
    {
     "name": "stdout",
     "output_type": "stream",
     "text": [
      "best model is ./saved_models/P3D_My_Dataset_Rlvs_Dataset\\model.07-0.14-0.966.h5\n"
     ]
    }
   ],
   "source": [
    "model.load_weights(get_best_model_from_storage())"
   ]
  },
  {
   "cell_type": "code",
   "execution_count": 23,
   "id": "b9afc264",
   "metadata": {},
   "outputs": [
    {
     "name": "stdout",
     "output_type": "stream",
     "text": [
      "5/5 [==============================] - 0s 3ms/step\n"
     ]
    }
   ],
   "source": [
    "prediction = model.predict([test_videos,test_audios],verbose=1,steps=len(test_videos)//64)\n",
    "prediction = np.round(prediction,2)\n",
    "classification = np.rint(prediction).astype(int).flatten()"
   ]
  },
  {
   "cell_type": "raw",
   "id": "3102d738",
   "metadata": {},
   "source": [
    "f\"Accuracy: {np.sum(classification==test_labels)/len(test_labels)}, {np.sum(classification==test_labels)} out of {len(test_labels)} datapoint were correctly classified\""
   ]
  },
  {
   "cell_type": "code",
   "execution_count": 24,
   "id": "878627d6",
   "metadata": {},
   "outputs": [],
   "source": [
    "def generate_report(a,b,v=0): #actual,predicted\n",
    "    a = np.array(a).astype(int)\n",
    "    b = np.array(b).astype(int)\n",
    "    if v: \n",
    "        a = 1-a\n",
    "        b = 1-b\n",
    "\n",
    "    tp = sum((a==0) & (b==0))\n",
    "    tn = sum((a==1) & (b==1))\n",
    "    fn = sum((a==0) & (b==1))\n",
    "    fp = sum((a==1) & (b==0))\n",
    "    #print(\"TP: \",tp,\" TN: \",tn,' FN: ',fn,' FP: ',fp)\n",
    "    \n",
    "    confusion_matrix = {'TP': int(tp), 'TN': int(tn), 'FN': int(fn), 'FP': int(fp)}\n",
    "    \n",
    "    precision = tp/(tp+fp)\n",
    "    recall = tp/(tp+fn) \n",
    "    f1_score = (2*precision*recall)/ (precision+recall)\n",
    "    accuracy = (tp+tn)/(tp+tn+fp+fn)\n",
    "    support = sum(a==v)\n",
    "    accuracy ,precision,recall,f1_score,support = np.round([accuracy ,precision,recall,f1_score,support],3)\n",
    "    \n",
    "    report = {'class':v,\n",
    "              'No of test samples':len(a),\n",
    "              'support': int(support),\n",
    "              'confusion_matrix':confusion_matrix,\n",
    "              'accuracy':accuracy,\n",
    "              'precision':precision,\n",
    "              'recall':recall,\n",
    "              'f1_score':f1_score\n",
    "              }\n",
    "    \n",
    "    return report"
   ]
  },
  {
   "cell_type": "code",
   "execution_count": null,
   "id": "0ed16248",
   "metadata": {},
   "outputs": [],
   "source": []
  },
  {
   "cell_type": "code",
   "execution_count": 25,
   "id": "cf0cad0d",
   "metadata": {},
   "outputs": [
    {
     "name": "stdout",
     "output_type": "stream",
     "text": [
      "best model is ./saved_models/P3D_My_Dataset_Rlvs_Dataset\\model.07-0.14-0.966.h5\n",
      "{'BACKBONE': 'P3D',\n",
      " 'Best model': './saved_models/P3D_My_Dataset_Rlvs_Dataset\\\\model.07-0.14-0.966.h5',\n",
      " 'INPUT_DIM': (2, 2048),\n",
      " 'My dataset': True,\n",
      " 'No Physical Violence': {'No of test samples': 322,\n",
      "                          'accuracy': 0.938,\n",
      "                          'class': 0,\n",
      "                          'confusion_matrix': {'FN': 14,\n",
      "                                               'FP': 6,\n",
      "                                               'TN': 156,\n",
      "                                               'TP': 146},\n",
      "                          'f1_score': 0.936,\n",
      "                          'precision': 0.961,\n",
      "                          'recall': 0.912,\n",
      "                          'support': 160},\n",
      " 'Physical Violence': {'No of test samples': 322,\n",
      "                       'accuracy': 0.938,\n",
      "                       'class': 1,\n",
      "                       'confusion_matrix': {'FN': 6,\n",
      "                                            'FP': 14,\n",
      "                                            'TN': 146,\n",
      "                                            'TP': 156},\n",
      "                       'f1_score': 0.94,\n",
      "                       'precision': 0.918,\n",
      "                       'recall': 0.963,\n",
      "                       'support': 160},\n",
      " 'RLVS dataset': True,\n",
      " 'Time': '28-12-2021..23.55.39',\n",
      " 'model_name': 'P3D_My_Dataset_Rlvs_Dataset'}\n"
     ]
    }
   ],
   "source": [
    "result = {'Time':times(),\n",
    "          'model_name':PATH,\n",
    "          'My dataset':USE_MY_DATASET,\n",
    "          'RLVS dataset':USE_RLVS_DATASET,\n",
    "          'BACKBONE':BACKBONE,\n",
    "          'INPUT_DIM':INPUT_DIM,\n",
    "          'No Physical Violence':generate_report(test_labels,classification,0),\n",
    "          'Physical Violence':   generate_report(test_labels,classification,1),\n",
    "          'Best model':get_best_model_from_storage()\n",
    "          }\n",
    "\n",
    "pprint.pprint(result)"
   ]
  },
  {
   "cell_type": "code",
   "execution_count": 26,
   "id": "4372056a",
   "metadata": {},
   "outputs": [],
   "source": [
    "dict_as_json(result,RESULT_PATH+'\\\\result.json')"
   ]
  },
  {
   "cell_type": "code",
   "execution_count": null,
   "id": "9050c665",
   "metadata": {},
   "outputs": [],
   "source": []
  },
  {
   "cell_type": "code",
   "execution_count": 27,
   "id": "99d05196",
   "metadata": {},
   "outputs": [],
   "source": [
    "#(0.698, 1396)\n",
    "#(0.8187633262260128, 768)"
   ]
  },
  {
   "cell_type": "code",
   "execution_count": null,
   "id": "535ecac9",
   "metadata": {},
   "outputs": [],
   "source": []
  },
  {
   "cell_type": "markdown",
   "id": "c142bfec",
   "metadata": {},
   "source": []
  },
  {
   "cell_type": "code",
   "execution_count": 6,
   "id": "f8996446",
   "metadata": {},
   "outputs": [
    {
     "data": {
      "text/plain": [
       "(0, 1, 0)"
      ]
     },
     "execution_count": 6,
     "metadata": {},
     "output_type": "execute_result"
    }
   ],
   "source": [
    "1 ^ 1,1^0,0^0"
   ]
  },
  {
   "cell_type": "code",
   "execution_count": 9,
   "id": "2e9e2387",
   "metadata": {},
   "outputs": [
    {
     "data": {
      "text/plain": [
       "[0.0004,\n",
       " 0.0004,\n",
       " 0.0004,\n",
       " 0.0004,\n",
       " 0.0004,\n",
       " 0.000268,\n",
       " 0.000268,\n",
       " 0.000268,\n",
       " 0.000268,\n",
       " 0.000268,\n",
       " 0.000136,\n",
       " 0.000136,\n",
       " 0.000136,\n",
       " 0.000136,\n",
       " 0.000136,\n",
       " 3.999999999999989e-06,\n",
       " 3.999999999999989e-06,\n",
       " 3.999999999999989e-06,\n",
       " 3.999999999999989e-06,\n",
       " 3.999999999999989e-06,\n",
       " -0.00012800000000000002,\n",
       " -0.00012800000000000002,\n",
       " -0.00012800000000000002,\n",
       " -0.00012800000000000002,\n",
       " -0.00012800000000000002,\n",
       " -0.00026,\n",
       " -0.00026,\n",
       " -0.00026,\n",
       " -0.00026,\n",
       " -0.00026,\n",
       " -0.00039200000000000004,\n",
       " -0.00039200000000000004,\n",
       " -0.00039200000000000004,\n",
       " -0.00039200000000000004,\n",
       " -0.00039200000000000004,\n",
       " -0.0005240000000000002,\n",
       " -0.0005240000000000002,\n",
       " -0.0005240000000000002,\n",
       " -0.0005240000000000002,\n",
       " -0.0005240000000000002,\n",
       " -0.0006560000000000001,\n",
       " -0.0006560000000000001,\n",
       " -0.0006560000000000001,\n",
       " -0.0006560000000000001,\n",
       " -0.0006560000000000001,\n",
       " -0.0007880000000000001,\n",
       " -0.0007880000000000001,\n",
       " -0.0007880000000000001,\n",
       " -0.0007880000000000001,\n",
       " -0.0007880000000000001]"
      ]
     },
     "execution_count": 9,
     "metadata": {},
     "output_type": "execute_result"
    }
   ],
   "source": [
    "LEARNING_RATE = .0004\n",
    "def scheduler(epoch, lr):\n",
    "    #scheduler = lambda epoch,lr: lr *.5 if epoch>5 else lr\n",
    "    if epoch < 5: return lr\n",
    "    else:          return LEARNING_RATE - LEARNING_RATE*.33*(epoch//5)\n",
    "\n",
    "[scheduler(i,LEARNING_RATE) for i in range(50)]# else LEARNING_RATE]"
   ]
  },
  {
   "cell_type": "code",
   "execution_count": 10,
   "id": "2c1d55c8",
   "metadata": {},
   "outputs": [
    {
     "name": "stdout",
     "output_type": "stream",
     "text": [
      "0.0001\n",
      "0.0001\n",
      "0.0001\n",
      "0.0001\n",
      "0.0001\n",
      "8.65e-05\n",
      "8.65e-05\n",
      "8.65e-05\n",
      "8.65e-05\n",
      "8.65e-05\n",
      "7.5025e-05\n",
      "7.5025e-05\n",
      "7.5025e-05\n",
      "7.5025e-05\n",
      "7.5025e-05\n",
      "6.527125e-05\n",
      "6.527125e-05\n",
      "6.527125e-05\n",
      "6.527125e-05\n",
      "6.527125e-05\n",
      "5.6980562499999995e-05\n",
      "5.6980562499999995e-05\n",
      "5.6980562499999995e-05\n",
      "5.6980562499999995e-05\n",
      "5.6980562499999995e-05\n",
      "4.9933478125e-05\n",
      "4.9933478125e-05\n",
      "4.9933478125e-05\n",
      "4.9933478125e-05\n",
      "4.9933478125e-05\n",
      "4.3943456406249995e-05\n",
      "4.3943456406249995e-05\n",
      "4.3943456406249995e-05\n",
      "4.3943456406249995e-05\n",
      "4.3943456406249995e-05\n",
      "3.8851937945312494e-05\n",
      "3.8851937945312494e-05\n",
      "3.8851937945312494e-05\n",
      "3.8851937945312494e-05\n",
      "3.8851937945312494e-05\n",
      "3.4524147253515625e-05\n",
      "3.4524147253515625e-05\n",
      "3.4524147253515625e-05\n",
      "3.4524147253515625e-05\n",
      "3.4524147253515625e-05\n",
      "3.084552516548828e-05\n",
      "3.084552516548828e-05\n",
      "3.084552516548828e-05\n",
      "3.084552516548828e-05\n",
      "3.084552516548828e-05\n"
     ]
    }
   ],
   "source": [
    "LR_MAX = 0.0001\n",
    "LR_MIN = 0.00001\n",
    "LR_EXP_DECAY = 0.85\n",
    "\n",
    "def lrfn(epoch):\n",
    "    lr = (LR_MAX - LR_MIN) * LR_EXP_DECAY**(epoch//5) + LR_MIN\n",
    "    return lr\n",
    "for i  in range(50):\n",
    "    print(lrfn(i))"
   ]
  },
  {
   "cell_type": "code",
   "execution_count": null,
   "id": "6ac2bf85",
   "metadata": {},
   "outputs": [],
   "source": []
  },
  {
   "cell_type": "code",
   "execution_count": null,
   "id": "2e38d364",
   "metadata": {},
   "outputs": [],
   "source": []
  },
  {
   "cell_type": "code",
   "execution_count": null,
   "id": "0d996189",
   "metadata": {},
   "outputs": [],
   "source": []
  },
  {
   "cell_type": "code",
   "execution_count": null,
   "id": "84cfdbea",
   "metadata": {},
   "outputs": [],
   "source": []
  },
  {
   "cell_type": "code",
   "execution_count": 5,
   "id": "a46bcd67",
   "metadata": {},
   "outputs": [
    {
     "data": {
      "text/plain": [
       "'Effects_of_Watching_Violence_Movies_On_The_Attudes_Concerning_Aggression_Among_Middle_Schoolboys_(13-17_years_old)_at_International_Schools_In_Kuala_Lumpur,_Malaysia'"
      ]
     },
     "execution_count": 5,
     "metadata": {},
     "output_type": "execute_result"
    }
   ],
   "source": [
    "text= \"Effects of Watching Violence Movies On The Attudes Concerning Aggression Among Middle Schoolboys (13-17 years old) at International Schools In Kuala Lumpur, Malaysia\"\n",
    "\"_\".join([i for i in text.split()])"
   ]
  },
  {
   "cell_type": "code",
   "execution_count": null,
   "id": "9add73be",
   "metadata": {},
   "outputs": [],
   "source": []
  }
 ],
 "metadata": {
  "kernelspec": {
   "display_name": "Python 3 (ipykernel)",
   "language": "python",
   "name": "python3"
  },
  "language_info": {
   "codemirror_mode": {
    "name": "ipython",
    "version": 3
   },
   "file_extension": ".py",
   "mimetype": "text/x-python",
   "name": "python",
   "nbconvert_exporter": "python",
   "pygments_lexer": "ipython3",
   "version": "3.8.0"
  }
 },
 "nbformat": 4,
 "nbformat_minor": 5
}
